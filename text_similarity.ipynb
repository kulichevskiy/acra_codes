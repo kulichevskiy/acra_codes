{
 "cells": [
  {
   "cell_type": "code",
   "execution_count": 42,
   "metadata": {},
   "outputs": [
    {
     "name": "stdout",
     "output_type": "stream",
     "text": [
      "[nltk_data] Downloading package punkt to /Users/ak/nltk_data...\n",
      "[nltk_data]   Package punkt is already up-to-date!\n"
     ]
    },
    {
     "data": {
      "text/plain": [
       "True"
      ]
     },
     "execution_count": 42,
     "metadata": {},
     "output_type": "execute_result"
    }
   ],
   "source": [
    "from sklearn.feature_extraction.text import TfidfVectorizer\n",
    "import nltk, string\n",
    "import pandas as pd\n",
    "from operator import itemgetter\n",
    "\n",
    "nltk.download('punkt')"
   ]
  },
  {
   "cell_type": "code",
   "execution_count": 37,
   "metadata": {},
   "outputs": [
    {
     "ename": "KeyError",
     "evalue": "'the label [title] is not in the [index]'",
     "output_type": "error",
     "traceback": [
      "\u001b[0;31m---------------------------------------------------------------------------\u001b[0m",
      "\u001b[0;31mKeyError\u001b[0m                                  Traceback (most recent call last)",
      "\u001b[0;32m~/Dropbox/Code/Python/acra_codes/venv/lib/python3.6/site-packages/pandas/core/indexing.py\u001b[0m in \u001b[0;36m_has_valid_type\u001b[0;34m(self, key, axis)\u001b[0m\n\u001b[1;32m   1433\u001b[0m                 \u001b[0;32mif\u001b[0m \u001b[0;32mnot\u001b[0m \u001b[0max\u001b[0m\u001b[0;34m.\u001b[0m\u001b[0mcontains\u001b[0m\u001b[0;34m(\u001b[0m\u001b[0mkey\u001b[0m\u001b[0;34m)\u001b[0m\u001b[0;34m:\u001b[0m\u001b[0;34m\u001b[0m\u001b[0m\n\u001b[0;32m-> 1434\u001b[0;31m                     \u001b[0merror\u001b[0m\u001b[0;34m(\u001b[0m\u001b[0;34m)\u001b[0m\u001b[0;34m\u001b[0m\u001b[0m\n\u001b[0m\u001b[1;32m   1435\u001b[0m             \u001b[0;32mexcept\u001b[0m \u001b[0mTypeError\u001b[0m \u001b[0;32mas\u001b[0m \u001b[0me\u001b[0m\u001b[0;34m:\u001b[0m\u001b[0;34m\u001b[0m\u001b[0m\n",
      "\u001b[0;32m~/Dropbox/Code/Python/acra_codes/venv/lib/python3.6/site-packages/pandas/core/indexing.py\u001b[0m in \u001b[0;36merror\u001b[0;34m()\u001b[0m\n\u001b[1;32m   1428\u001b[0m                 raise KeyError(\"the label [%s] is not in the [%s]\" %\n\u001b[0;32m-> 1429\u001b[0;31m                                (key, self.obj._get_axis_name(axis)))\n\u001b[0m\u001b[1;32m   1430\u001b[0m \u001b[0;34m\u001b[0m\u001b[0m\n",
      "\u001b[0;31mKeyError\u001b[0m: 'the label [title] is not in the [index]'",
      "\nDuring handling of the above exception, another exception occurred:\n",
      "\u001b[0;31mKeyError\u001b[0m                                  Traceback (most recent call last)",
      "\u001b[0;32m<ipython-input-37-3c0f7b036a24>\u001b[0m in \u001b[0;36m<module>\u001b[0;34m()\u001b[0m\n\u001b[1;32m      1\u001b[0m \u001b[0mcodes\u001b[0m \u001b[0;34m=\u001b[0m \u001b[0mpd\u001b[0m\u001b[0;34m.\u001b[0m\u001b[0mread_csv\u001b[0m\u001b[0;34m(\u001b[0m\u001b[0;34m'acra_codes.csv'\u001b[0m\u001b[0;34m)\u001b[0m\u001b[0;34m\u001b[0m\u001b[0m\n\u001b[0;32m----> 2\u001b[0;31m \u001b[0mcodes\u001b[0m\u001b[0;34m.\u001b[0m\u001b[0mloc\u001b[0m\u001b[0;34m(\u001b[0m\u001b[0;36m0\u001b[0m\u001b[0;34m)\u001b[0m\u001b[0;34m[\u001b[0m\u001b[0;34m'title'\u001b[0m\u001b[0;34m]\u001b[0m\u001b[0;34m\u001b[0m\u001b[0m\n\u001b[0m",
      "\u001b[0;32m~/Dropbox/Code/Python/acra_codes/venv/lib/python3.6/site-packages/pandas/core/indexing.py\u001b[0m in \u001b[0;36m__getitem__\u001b[0;34m(self, key)\u001b[0m\n\u001b[1;32m   1326\u001b[0m         \u001b[0;32melse\u001b[0m\u001b[0;34m:\u001b[0m\u001b[0;34m\u001b[0m\u001b[0m\n\u001b[1;32m   1327\u001b[0m             \u001b[0mkey\u001b[0m \u001b[0;34m=\u001b[0m \u001b[0mcom\u001b[0m\u001b[0;34m.\u001b[0m\u001b[0m_apply_if_callable\u001b[0m\u001b[0;34m(\u001b[0m\u001b[0mkey\u001b[0m\u001b[0;34m,\u001b[0m \u001b[0mself\u001b[0m\u001b[0;34m.\u001b[0m\u001b[0mobj\u001b[0m\u001b[0;34m)\u001b[0m\u001b[0;34m\u001b[0m\u001b[0m\n\u001b[0;32m-> 1328\u001b[0;31m             \u001b[0;32mreturn\u001b[0m \u001b[0mself\u001b[0m\u001b[0;34m.\u001b[0m\u001b[0m_getitem_axis\u001b[0m\u001b[0;34m(\u001b[0m\u001b[0mkey\u001b[0m\u001b[0;34m,\u001b[0m \u001b[0maxis\u001b[0m\u001b[0;34m=\u001b[0m\u001b[0;36m0\u001b[0m\u001b[0;34m)\u001b[0m\u001b[0;34m\u001b[0m\u001b[0m\n\u001b[0m\u001b[1;32m   1329\u001b[0m \u001b[0;34m\u001b[0m\u001b[0m\n\u001b[1;32m   1330\u001b[0m     \u001b[0;32mdef\u001b[0m \u001b[0m_is_scalar_access\u001b[0m\u001b[0;34m(\u001b[0m\u001b[0mself\u001b[0m\u001b[0;34m,\u001b[0m \u001b[0mkey\u001b[0m\u001b[0;34m)\u001b[0m\u001b[0;34m:\u001b[0m\u001b[0;34m\u001b[0m\u001b[0m\n",
      "\u001b[0;32m~/Dropbox/Code/Python/acra_codes/venv/lib/python3.6/site-packages/pandas/core/indexing.py\u001b[0m in \u001b[0;36m_getitem_axis\u001b[0;34m(self, key, axis)\u001b[0m\n\u001b[1;32m   1549\u001b[0m \u001b[0;34m\u001b[0m\u001b[0m\n\u001b[1;32m   1550\u001b[0m         \u001b[0;31m# fall thru to straight lookup\u001b[0m\u001b[0;34m\u001b[0m\u001b[0;34m\u001b[0m\u001b[0m\n\u001b[0;32m-> 1551\u001b[0;31m         \u001b[0mself\u001b[0m\u001b[0;34m.\u001b[0m\u001b[0m_has_valid_type\u001b[0m\u001b[0;34m(\u001b[0m\u001b[0mkey\u001b[0m\u001b[0;34m,\u001b[0m \u001b[0maxis\u001b[0m\u001b[0;34m)\u001b[0m\u001b[0;34m\u001b[0m\u001b[0m\n\u001b[0m\u001b[1;32m   1552\u001b[0m         \u001b[0;32mreturn\u001b[0m \u001b[0mself\u001b[0m\u001b[0;34m.\u001b[0m\u001b[0m_get_label\u001b[0m\u001b[0;34m(\u001b[0m\u001b[0mkey\u001b[0m\u001b[0;34m,\u001b[0m \u001b[0maxis\u001b[0m\u001b[0;34m=\u001b[0m\u001b[0maxis\u001b[0m\u001b[0;34m)\u001b[0m\u001b[0;34m\u001b[0m\u001b[0m\n\u001b[1;32m   1553\u001b[0m \u001b[0;34m\u001b[0m\u001b[0m\n",
      "\u001b[0;32m~/Dropbox/Code/Python/acra_codes/venv/lib/python3.6/site-packages/pandas/core/indexing.py\u001b[0m in \u001b[0;36m_has_valid_type\u001b[0;34m(self, key, axis)\u001b[0m\n\u001b[1;32m   1440\u001b[0m                 \u001b[0;32mraise\u001b[0m\u001b[0;34m\u001b[0m\u001b[0m\n\u001b[1;32m   1441\u001b[0m             \u001b[0;32mexcept\u001b[0m\u001b[0;34m:\u001b[0m\u001b[0;34m\u001b[0m\u001b[0m\n\u001b[0;32m-> 1442\u001b[0;31m                 \u001b[0merror\u001b[0m\u001b[0;34m(\u001b[0m\u001b[0;34m)\u001b[0m\u001b[0;34m\u001b[0m\u001b[0m\n\u001b[0m\u001b[1;32m   1443\u001b[0m \u001b[0;34m\u001b[0m\u001b[0m\n\u001b[1;32m   1444\u001b[0m         \u001b[0;32mreturn\u001b[0m \u001b[0;32mTrue\u001b[0m\u001b[0;34m\u001b[0m\u001b[0m\n",
      "\u001b[0;32m~/Dropbox/Code/Python/acra_codes/venv/lib/python3.6/site-packages/pandas/core/indexing.py\u001b[0m in \u001b[0;36merror\u001b[0;34m()\u001b[0m\n\u001b[1;32m   1427\u001b[0m                                     \"key\")\n\u001b[1;32m   1428\u001b[0m                 raise KeyError(\"the label [%s] is not in the [%s]\" %\n\u001b[0;32m-> 1429\u001b[0;31m                                (key, self.obj._get_axis_name(axis)))\n\u001b[0m\u001b[1;32m   1430\u001b[0m \u001b[0;34m\u001b[0m\u001b[0m\n\u001b[1;32m   1431\u001b[0m             \u001b[0;32mtry\u001b[0m\u001b[0;34m:\u001b[0m\u001b[0;34m\u001b[0m\u001b[0m\n",
      "\u001b[0;31mKeyError\u001b[0m: 'the label [title] is not in the [index]'"
     ]
    }
   ],
   "source": [
    "codes = pd.read_csv('acra_codes.csv')\n",
    "codes.loc(0)['title']"
   ]
  },
  {
   "cell_type": "code",
   "execution_count": 26,
   "metadata": {},
   "outputs": [],
   "source": [
    "stemmer = nltk.stem.porter.PorterStemmer()\n",
    "remove_punctuation_map = dict((ord(char), None) for char in string.punctuation)\n",
    "\n",
    "def stem_tokens(tokens):\n",
    "    return [stemmer.stem(item) for item in tokens]\n",
    "\n",
    "'''remove punctuation, lowercase, stem'''\n",
    "def normalize(text):\n",
    "    return stem_tokens(nltk.word_tokenize(text.lower().translate(remove_punctuation_map)))\n",
    "\n",
    "vectorizer = TfidfVectorizer(tokenizer=normalize, stop_words='english')\n",
    "\n",
    "def cosine_sim(text1, text2):\n",
    "    tfidf = vectorizer.fit_transform([text1, text2])\n",
    "    return ((tfidf * tfidf.T).A)[0,1]"
   ]
  },
  {
   "cell_type": "code",
   "execution_count": 29,
   "metadata": {},
   "outputs": [
    {
     "name": "stdout",
     "output_type": "stream",
     "text": [
      "1.0\n"
     ]
    }
   ],
   "source": [
    "print (cosine_sim('a little bird', 'little bird'))"
   ]
  },
  {
   "cell_type": "code",
   "execution_count": 51,
   "metadata": {},
   "outputs": [
    {
     "data": {
      "text/plain": [
       "[{'code': 47191,\n",
       "  'similarity': 0.3360969272762574,\n",
       "  'title': 'Department stores'},\n",
       " {'code': 4719,\n",
       "  'similarity': 0.22028815056182965,\n",
       "  'title': 'Retail sale in other non-specialised stores'},\n",
       " {'code': 47722,\n",
       "  'similarity': 0.22028815056182965,\n",
       "  'title': 'Pharmacies and drug stores (western)'},\n",
       " {'code': 47199,\n",
       "  'similarity': 0.19431434016858148,\n",
       "  'title': 'Retail sale in other non-specialised stores n.e.c.'},\n",
       " {'code': 4721,\n",
       "  'similarity': 0.19431434016858146,\n",
       "  'title': 'Retail sale of food in specialised stores'},\n",
       " {'code': 4722,\n",
       "  'similarity': 0.19431434016858146,\n",
       "  'title': 'Retail sale of beverages in specialised stores'},\n",
       " {'code': 4751,\n",
       "  'similarity': 0.19431434016858146,\n",
       "  'title': 'Retail sale of textiles in specialised stores'},\n",
       " {'code': 4777,\n",
       "  'similarity': 0.19431434016858146,\n",
       "  'title': 'Retail sale of second-hand goods in stores'},\n",
       " {'code': 4799,\n",
       "  'similarity': 0.19431434016858146,\n",
       "  'title': 'Other retail sale not in stores, stalls or markets'},\n",
       " {'code': 47112,\n",
       "  'similarity': 0.19431434016858146,\n",
       "  'title': 'Mini-marts, convenience stores and provision shops'},\n",
       " {'code': 47770,\n",
       "  'similarity': 0.19431434016858146,\n",
       "  'title': 'Retail sale of second-hand goods in stores'},\n",
       " {'code': 4723,\n",
       "  'similarity': 0.17578607839334617,\n",
       "  'title': 'Retail sale of tobacco products in specialised stores'},\n",
       " {'code': 4732,\n",
       "  'similarity': 0.17578607839334617,\n",
       "  'title': 'Retail sale of automotive fuel in specialised stores'},\n",
       " {'code': 4763,\n",
       "  'similarity': 0.17578607839334617,\n",
       "  'title': 'Retail sale of sporting equipment in specialised stores'},\n",
       " {'code': 4764,\n",
       "  'similarity': 0.17578607839334617,\n",
       "  'title': 'Retail sale of games and toys in specialised stores'},\n",
       " {'code': 4773,\n",
       "  'similarity': 0.17578607839334617,\n",
       "  'title': 'Retail sale of personal effects in specialised stores'},\n",
       " {'code': 4776,\n",
       "  'similarity': 0.17578607839334617,\n",
       "  'title': 'Retail sale of other new goods in specialised stores'},\n",
       " {'code': 47192,\n",
       "  'similarity': 0.17578607839334617,\n",
       "  'title': 'Department stores cum supermarkets (including hypermarkets)'},\n",
       " {'code': 4731,\n",
       "  'similarity': 0.16171378066252898,\n",
       "  'title': 'Retail sale of motor vehicles, parts and accessories in specialised stores'}]"
      ]
     },
     "execution_count": 51,
     "metadata": {},
     "output_type": "execute_result"
    }
   ],
   "source": [
    "sims = []\n",
    "q = 'online store'\n",
    "for index, row in codes.iterrows():\n",
    "    entry = {}\n",
    "    entry['code'] = row.code\n",
    "    entry['title'] = row.title\n",
    "    entry['similarity'] = cosine_sim(row.title, q)\n",
    "    sims.append(entry)\n",
    "\n",
    "    sorted_sims = sorted(sims, key=itemgetter('similarity'), reverse=True)\n",
    "sorted_sims[0:19]"
   ]
  },
  {
   "cell_type": "code",
   "execution_count": 47,
   "metadata": {},
   "outputs": [],
   "source": []
  },
  {
   "cell_type": "code",
   "execution_count": 48,
   "metadata": {},
   "outputs": [
    {
     "data": {
      "text/plain": [
       "[{'code': 56112,\n",
       "  'similarity': 0.44943641652398209,\n",
       "  'title': 'Cafes and coffee houses'},\n",
       " {'code': 5611,\n",
       "  'similarity': 0.37997836159100784,\n",
       "  'title': 'Restaurants, cafes and coffee houses'},\n",
       " {'code': 61099,\n",
       "  'similarity': 0.17512808619292849,\n",
       "  'title': \"Other telecommunications activities n.e.c. (eg provision of voip (voice over internet protocol services) and cyber 'cafes' (offering internet access only))\"},\n",
       " {'code': 1010,\n",
       "  'similarity': 0.0,\n",
       "  'title': 'Processing and preserving of meat'},\n",
       " {'code': 1020,\n",
       "  'similarity': 0.0,\n",
       "  'title': 'Processing and preserving of fish, crustaceans and molluscs'},\n",
       " {'code': 1030,\n",
       "  'similarity': 0.0,\n",
       "  'title': 'Processing and preserving of fruits and vegetables'},\n",
       " {'code': 1040,\n",
       "  'similarity': 0.0,\n",
       "  'title': 'Manufacture of vegetable and animal oils and fats'},\n",
       " {'code': 1050, 'similarity': 0.0, 'title': 'Manufacture of dairy products'},\n",
       " {'code': 1061,\n",
       "  'similarity': 0.0,\n",
       "  'title': 'Manufacture of grain mill products'},\n",
       " {'code': 1062,\n",
       "  'similarity': 0.0,\n",
       "  'title': 'Manufacture of starches and starch products'},\n",
       " {'code': 1071, 'similarity': 0.0, 'title': 'Manufacture of bakery products'},\n",
       " {'code': 1072, 'similarity': 0.0, 'title': 'Manufacture of sugar'},\n",
       " {'code': 1073,\n",
       "  'similarity': 0.0,\n",
       "  'title': 'Manufacture of cocoa, chocolate and non-chocolate confectionery'},\n",
       " {'code': 1074,\n",
       "  'similarity': 0.0,\n",
       "  'title': 'Manufacture of macaroni, noodles, vermicelli and other related products'},\n",
       " {'code': 1075,\n",
       "  'similarity': 0.0,\n",
       "  'title': 'Manufacture of prepared meals and dishes'},\n",
       " {'code': 1076,\n",
       "  'similarity': 0.0,\n",
       "  'title': 'Manufacture of coffee, tea and related products'},\n",
       " {'code': 1079,\n",
       "  'similarity': 0.0,\n",
       "  'title': 'Manufacture of other food products n.e.c.'},\n",
       " {'code': 1080,\n",
       "  'similarity': 0.0,\n",
       "  'title': 'Manufacture of prepared animal feeds'},\n",
       " {'code': 1101,\n",
       "  'similarity': 0.0,\n",
       "  'title': 'Distilling, rectifying and blending of spirits'}]"
      ]
     },
     "execution_count": 48,
     "metadata": {},
     "output_type": "execute_result"
    }
   ],
   "source": []
  },
  {
   "cell_type": "code",
   "execution_count": null,
   "metadata": {},
   "outputs": [],
   "source": []
  }
 ],
 "metadata": {
  "kernelspec": {
   "display_name": "Python 3",
   "language": "python",
   "name": "python3"
  },
  "language_info": {
   "codemirror_mode": {
    "name": "ipython",
    "version": 3
   },
   "file_extension": ".py",
   "mimetype": "text/x-python",
   "name": "python",
   "nbconvert_exporter": "python",
   "pygments_lexer": "ipython3",
   "version": "3.6.0"
  }
 },
 "nbformat": 4,
 "nbformat_minor": 2
}
